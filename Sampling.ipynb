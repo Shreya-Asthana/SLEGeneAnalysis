{
  "nbformat": 4,
  "nbformat_minor": 0,
  "metadata": {
    "colab": {
      "provenance": []
    },
    "kernelspec": {
      "name": "python3",
      "display_name": "Python 3"
    },
    "language_info": {
      "name": "python"
    }
  },
  "cells": [
    {
      "cell_type": "code",
      "execution_count": 4,
      "metadata": {
        "colab": {
          "base_uri": "https://localhost:8080/"
        },
        "id": "KgvOxwqB0yEd",
        "outputId": "0001450c-9807-48d0-baba-f9c96f1f15b5"
      },
      "outputs": [
        {
          "output_type": "stream",
          "name": "stdout",
          "text": [
            "Requirement already satisfied: kagglehub in /usr/local/lib/python3.11/dist-packages (0.3.10)\n",
            "Requirement already satisfied: packaging in /usr/local/lib/python3.11/dist-packages (from kagglehub) (24.2)\n",
            "Requirement already satisfied: pyyaml in /usr/local/lib/python3.11/dist-packages (from kagglehub) (6.0.2)\n",
            "Requirement already satisfied: requests in /usr/local/lib/python3.11/dist-packages (from kagglehub) (2.32.3)\n",
            "Requirement already satisfied: tqdm in /usr/local/lib/python3.11/dist-packages (from kagglehub) (4.67.1)\n",
            "Requirement already satisfied: charset-normalizer<4,>=2 in /usr/local/lib/python3.11/dist-packages (from requests->kagglehub) (3.4.1)\n",
            "Requirement already satisfied: idna<4,>=2.5 in /usr/local/lib/python3.11/dist-packages (from requests->kagglehub) (3.10)\n",
            "Requirement already satisfied: urllib3<3,>=1.21.1 in /usr/local/lib/python3.11/dist-packages (from requests->kagglehub) (2.3.0)\n",
            "Requirement already satisfied: certifi>=2017.4.17 in /usr/local/lib/python3.11/dist-packages (from requests->kagglehub) (2025.1.31)\n"
          ]
        }
      ],
      "source": [
        "! pip install kagglehub"
      ]
    },
    {
      "cell_type": "markdown",
      "source": [
        "# load the raw dataset"
      ],
      "metadata": {
        "id": "MK8QSDYxI-Vy"
      }
    },
    {
      "cell_type": "code",
      "source": [
        "import kagglehub\n",
        "\n",
        "# Download latest version\n",
        "path = kagglehub.dataset_download(\"abinash6000/sle-gene-expression-profiles-7000\")\n",
        "\n",
        "print(\"Path to dataset files:\", path)"
      ],
      "metadata": {
        "colab": {
          "base_uri": "https://localhost:8080/"
        },
        "id": "j-ZJIxUj02fy",
        "outputId": "f3081fae-22ec-48c1-b8bc-d944437b173e"
      },
      "execution_count": 5,
      "outputs": [
        {
          "output_type": "stream",
          "name": "stdout",
          "text": [
            "Warning: Looks like you're using an outdated `kagglehub` version (installed: 0.3.10), please consider upgrading to the latest version (0.3.11).\n",
            "Path to dataset files: /root/.cache/kagglehub/datasets/abinash6000/sle-gene-expression-profiles-7000/versions/1\n"
          ]
        }
      ]
    },
    {
      "cell_type": "code",
      "source": [
        "path = ' /root/.cache/kagglehub/datasets/abinash6000/sle-gene-expression-profiles-7000/versions/1'"
      ],
      "metadata": {
        "id": "pX-7Y0Ba05E3"
      },
      "execution_count": 6,
      "outputs": []
    },
    {
      "cell_type": "code",
      "source": [
        "import os\n",
        "\n",
        "path = \"/root/.cache/kagglehub/datasets/abinash6000/sle-gene-expression-profiles-7000/versions/1\"\n",
        "\n",
        "for root, dirs, files in os.walk(path):\n",
        "    level = root.replace(path, \"\").count(os.sep)\n",
        "    indent = \" \" * (4 * level)\n",
        "    print(f\"{indent}{os.path.basename(root)}/\")\n",
        "    sub_indent = \" \" * (4 * (level + 1))\n",
        "    for f in files:\n",
        "        print(f\"{sub_indent}{f}\")"
      ],
      "metadata": {
        "colab": {
          "base_uri": "https://localhost:8080/"
        },
        "id": "O-kjpWHB07_u",
        "outputId": "028c135e-2f0f-4b2d-f59f-4805fe2d8d6c"
      },
      "execution_count": 7,
      "outputs": [
        {
          "output_type": "stream",
          "name": "stdout",
          "text": [
            "1/\n",
            "    SLE_Aggregated/\n",
            "        SLE_Aggregated_2.csv\n",
            "        SLE_Aggregated_15.csv\n",
            "        SLE_Aggregated_8.csv\n",
            "        SLE_Aggregated_18.csv\n",
            "        SLE_Aggregated_4.csv\n",
            "        SLE_Aggregated_20.csv\n",
            "        SLE_Aggregated_6.csv\n",
            "        SLE_Aggregated_12.csv\n",
            "        SLE_Aggregated_16.csv\n",
            "        SLE_Aggregated_19.csv\n",
            "        SLE_Aggregated_3.csv\n",
            "        SLE_Aggregated_13.csv\n",
            "        SLE_Aggregated_14.csv\n",
            "        SLE_Aggregated_17.csv\n",
            "        SLE_Aggregated_5.csv\n",
            "        SLE_Aggregated_7.csv\n",
            "        SLE_Aggregated_1.csv\n",
            "        SLE_Aggregated_11.csv\n",
            "        SLE_Aggregated_10.csv\n",
            "        SLE_Aggregated_9.csv\n",
            "    Control/\n",
            "        GSM1228917_6631_Control_SLE_M1_HGU133P.csv\n",
            "        GSM1228881_6633_Control_SLE_M3_HGU133P.csv\n",
            "        GSM1228872_9399_Control_SLE_M10_SPR134_HGU133P.csv\n",
            "        GSM1228870_9396_Control_SLE_M7_SPR134_HGU133P.csv\n",
            "        GSM1228882_6634_Control_SLE_M4_HGU133P.csv\n",
            "        GSM1228876_6632_Control_SLE_M2_HGU133P.csv\n",
            "        GSM1228879_6629_Control_SLE_G4_HGU133P.csv\n",
            "        GSM1228866_9390_Control_SLE_G6_SPR134_HGU133P.csv\n",
            "        GSM1228916_6628_Control_SLE_G3_HGU133P.csv\n",
            "        GSM1228860_9391_Control_SLE_G7_SPR134_HGU133P.csv\n",
            "        GSM1228871_9398_Control_SLE_M9_SPR134_HGU133P.csv\n",
            "        GSM1228862_9397_Control_SLE_M8_SPR134_HGU133P.csv\n",
            "        GSM1228878_6627_Control_SLE_G2_HGU133P.csv\n",
            "        GSM1228867_9392_Control_SLE_G8_SPR134_HGU133P.csv\n",
            "        GSM1228918_6635_Control_SLE_M5_HGU133P.csv\n",
            "        GSM1228880_6630_Control_SLE_G5_HGU133P.csv\n",
            "        GSM1228861_9394_Control_SLE_G10_SPR134_HGU133P.csv\n",
            "        GSM1228868_9393_Control_SLE_G9_SPR134_HGU133P.csv\n",
            "        GSM1228869_9395_Control_SLE_M6_SPR134_HGU133P.csv\n",
            "        GSM1228915_6626_Control_SLE_G1_HGU133P.csv\n",
            "    Final_Sampled/\n",
            "        control_sampled/\n",
            "            GSM1228917_6631_Control_SLE_M1_HGU133P.csv\n",
            "            GSM1228881_6633_Control_SLE_M3_HGU133P.csv\n",
            "            GSM1228872_9399_Control_SLE_M10_SPR134_HGU133P.csv\n",
            "            GSM1228870_9396_Control_SLE_M7_SPR134_HGU133P.csv\n",
            "            GSM1228882_6634_Control_SLE_M4_HGU133P.csv\n",
            "            GSM1228876_6632_Control_SLE_M2_HGU133P.csv\n",
            "            GSM1228879_6629_Control_SLE_G4_HGU133P.csv\n",
            "            GSM1228866_9390_Control_SLE_G6_SPR134_HGU133P.csv\n",
            "            GSM1228916_6628_Control_SLE_G3_HGU133P.csv\n",
            "            GSM1228860_9391_Control_SLE_G7_SPR134_HGU133P.csv\n",
            "            GSM1228871_9398_Control_SLE_M9_SPR134_HGU133P.csv\n",
            "            GSM1228862_9397_Control_SLE_M8_SPR134_HGU133P.csv\n",
            "            GSM1228878_6627_Control_SLE_G2_HGU133P.csv\n",
            "            GSM1228867_9392_Control_SLE_G8_SPR134_HGU133P.csv\n",
            "            GSM1228918_6635_Control_SLE_M5_HGU133P.csv\n",
            "            GSM1228880_6630_Control_SLE_G5_HGU133P.csv\n",
            "            GSM1228861_9394_Control_SLE_G10_SPR134_HGU133P.csv\n",
            "            GSM1228868_9393_Control_SLE_G9_SPR134_HGU133P.csv\n",
            "            GSM1228869_9395_Control_SLE_M6_SPR134_HGU133P.csv\n",
            "            GSM1228915_6626_Control_SLE_G1_HGU133P.csv\n",
            "        aggregated_sle_sampled/\n",
            "            SLE_Aggregated_2.csv\n",
            "            SLE_Aggregated_15.csv\n",
            "            SLE_Aggregated_8.csv\n",
            "            SLE_Aggregated_18.csv\n",
            "            SLE_Aggregated_4.csv\n",
            "            SLE_Aggregated_20.csv\n",
            "            SLE_Aggregated_6.csv\n",
            "            SLE_Aggregated_12.csv\n",
            "            SLE_Aggregated_16.csv\n",
            "            SLE_Aggregated_19.csv\n",
            "            SLE_Aggregated_3.csv\n",
            "            SLE_Aggregated_13.csv\n",
            "            SLE_Aggregated_14.csv\n",
            "            SLE_Aggregated_17.csv\n",
            "            SLE_Aggregated_5.csv\n",
            "            SLE_Aggregated_7.csv\n",
            "            SLE_Aggregated_1.csv\n",
            "            SLE_Aggregated_11.csv\n",
            "            SLE_Aggregated_10.csv\n",
            "            SLE_Aggregated_9.csv\n",
            "    SLE/\n",
            "        GSM1228887_7331_72_SLE_SPR134_HGU133P.csv\n",
            "        GSM1228900_11965_100_SLE_SPR134_HGU133P.csv\n",
            "        GSM1228930_14928_SLE_114_SPR134_HGU133P.csv\n",
            "        GSM1228919_14926_SLE_112_SPR134_HGU133P.csv\n",
            "        GSM1228894_11959_93_SLE_SPR134_HGU133P.csv\n",
            "        GSM1228929_14927_SLE_113_SPR134_HGU133P.csv\n",
            "        GSM1228922_14938_SLE_124_SPR134_HGU133P.csv\n",
            "        GSM1228893_11958_91_SLE_SPR134_HGU133P.csv\n",
            "        GSM1228937_14939_SLE_125_SPR134_HGU133P.csv\n",
            "        GSM1228904_11969_104_SLE_SPR134_HGU133P.csv\n",
            "        GSM1228902_11967_102_SLE_SPR134_HGU133P.csv\n",
            "        GSM1228935_14936_SLE_122_SPR134_HGU133P.csv\n",
            "        GSM1228897_11962_97_SLE_SPR134_HGU133P.csv\n",
            "        GSM1228938_14940_SLE_128_SPR134_HGU133P.csv\n",
            "        GSM1228865_9405_78_SLE_SPR134_HGU133P.csv\n",
            "        GSM1228910_11954_84_SLE_SPR134_HGU133P.csv\n",
            "        GSM1228890_11955_85_SLE_SPR134_HGU133P.csv\n",
            "        GSM1228921_14934_SLE_120_SPR134_HGU133P.csv\n",
            "        GSM1228884_7324_65_SLE_SPR134_HGU133P.csv\n",
            "        GSM1228932_14931_SLE_117_SPR134_HGU133P.csv\n",
            "        GSM1228909_11975_110_SLE_SPR134_HGU133P.csv\n",
            "        GSM1228864_9404_77_SLE_SPR134_HGU133P.csv\n",
            "        GSM1228901_11966_101_SLE_SPR134_HGU133P.csv\n",
            "        GSM1228928_14925_SLE_111_SPR134_HGU133P.csv\n",
            "        GSM1228863_9400_73_SLE_SPR134_HGU133P.csv\n",
            "        GSM1228920_14930_SLE_116_SPR134_HGU133P.csv\n",
            "        GSM1228875_9403_76_SLE_SPR134_HGU133P.csv\n",
            "        GSM1228924_7321_61_SLE_SPR134_HGU133P.csv\n",
            "        GSM1228912_11950_80_SLE_SPR134_HGU133P.csv\n",
            "        GSM1228908_11974_109_SLE_SPR134_HGU133P.csv\n",
            "        GSM1228926_7329_70_SLE_SPR134_HGU133P.csv\n",
            "        GSM1228891_11956_86_SLE_SPR134_HGU133P.csv\n",
            "        GSM1228940_14943_SLE_131_SPR134_HGU133P.csv\n",
            "        GSM1228914_11973_108_SLE_SPR134_HGU133P.csv\n",
            "        GSM1228886_7330_71_SLE_SPR134_HGU133P.csv\n",
            "        GSM1228898_11963_98_SLE_SPR134_HGU133P.csv\n",
            "        GSM1228911_11949_79_SLE_SPR134_HGU133P.csv\n",
            "        GSM1228877_6622_59_SLE_HGU133P.csv\n",
            "        GSM1228873_9401_74_SLE_SPR134_HGU133P.csv\n",
            "        GSM1228933_14932_SLE_118_SPR134_HGU133P.csv\n",
            "        GSM1228923_14941_SLE_129_SPR134_HGU133P.csv\n",
            "        GSM1228939_14942_SLE_130_SPR134_HGU133P.csv\n",
            "        GSM1228934_14933_SLE_119_SPR134_HGU133P.csv\n",
            "        GSM1228889_11953_83_SLE_SPR134_HGU133P.csv\n",
            "        GSM1228936_14937_SLE_123_SPR134_HGU133P.csv\n",
            "        GSM1228931_14929_SLE_115_SPR134_HGU133P.csv\n",
            "        GSM1228874_9402_75_SLE_SPR134_HGU133P.csv\n",
            "        GSM1228896_11961_95_SLE_SPR134_HGU133P.csv\n",
            "        GSM1228883_7320_60_SLE_SPR134_HGU133P.csv\n",
            "        GSM1228907_11972_107_SLE_SPR134_HGU133P.csv\n",
            "        GSM1228906_11971_106_SLE_SPR134_HGU133P.csv\n",
            "        GSM1228905_11970_105_SLE_SPR134_HGU133P.csv\n",
            "        GSM1228913_11951_81_SLE_SPR134_HGU133P.csv\n",
            "        GSM1228895_11960_94_SLE_SPR134_HGU133P.csv\n",
            "        GSM1228892_11957_87_SLE_SPR134_HGU133P.csv\n",
            "        GSM1228899_11964_99_SLE_SPR134_HGU133P.csv\n",
            "        GSM1228927_14935_SLE_121_SPR134_HGU133P.csv\n",
            "        GSM1228925_7326_67_SLE_SPR134_HGU133P.csv\n",
            "        GSM1228885_7328_69_SLE_SPR134_HGU133P.csv\n",
            "        GSM1228888_11952_82_SLE_SPR134_HGU133P.csv\n",
            "        GSM1228903_11968_103_SLE_SPR134_HGU133P.csv\n"
          ]
        }
      ]
    },
    {
      "cell_type": "markdown",
      "source": [
        "# arrange in folders"
      ],
      "metadata": {
        "id": "_ZFEAT8qJEQv"
      }
    },
    {
      "cell_type": "code",
      "source": [
        "import os\n",
        "import shutil\n",
        "\n",
        "# Define paths\n",
        "base_path = \"/root/.cache/kagglehub/datasets/abinash6000/sle-gene-expression-profiles-7000/versions/1\"\n",
        "control_folder = os.path.join(base_path, \"Control\")\n",
        "sle_folder = os.path.join(base_path, \"SLE\")\n",
        "\n",
        "# Create directories if not exist\n",
        "os.makedirs(control_folder, exist_ok=True)\n",
        "os.makedirs(sle_folder, exist_ok=True)\n",
        "\n",
        "# Loop through files and move them accordingly\n",
        "for file_name in os.listdir(base_path):\n",
        "    file_path = os.path.join(base_path, file_name)\n",
        "\n",
        "    if os.path.isfile(file_path):  # Ensure it's a file\n",
        "        if \"Control\" in file_name:\n",
        "            shutil.move(file_path, os.path.join(control_folder, file_name))\n",
        "        else:\n",
        "            shutil.move(file_path, os.path.join(sle_folder, file_name))\n",
        "\n",
        "print(\"Files have been organized into 'Control' and 'SLE' folders.\")\n"
      ],
      "metadata": {
        "colab": {
          "base_uri": "https://localhost:8080/"
        },
        "id": "kjS633_01B7V",
        "outputId": "1be0fbbb-2a72-4197-e367-03810ea6e5f2"
      },
      "execution_count": 8,
      "outputs": [
        {
          "output_type": "stream",
          "name": "stdout",
          "text": [
            "Files have been organized into 'Control' and 'SLE' folders.\n"
          ]
        }
      ]
    },
    {
      "cell_type": "code",
      "source": [
        "import os\n",
        "\n",
        "# Define paths\n",
        "base_path = \"/root/.cache/kagglehub/datasets/abinash6000/sle-gene-expression-profiles-7000/versions/1\"\n",
        "control_folder = os.path.join(base_path, \"Control\")\n",
        "sle_folder = os.path.join(base_path, \"SLE\")\n",
        "\n",
        "# Count files in each folder\n",
        "control_count = len([f for f in os.listdir(control_folder) if os.path.isfile(os.path.join(control_folder, f))])\n",
        "sle_count = len([f for f in os.listdir(sle_folder) if os.path.isfile(os.path.join(sle_folder, f))])\n",
        "\n",
        "# Print results\n",
        "print(f\"Number of files in 'Control' folder: {control_count}\")\n",
        "print(f\"Number of files in 'SLE' folder: {sle_count}\")\n"
      ],
      "metadata": {
        "colab": {
          "base_uri": "https://localhost:8080/"
        },
        "id": "mh_2dAl81FGG",
        "outputId": "15f02444-f5b5-4ccd-80bf-6bf344de4b6e"
      },
      "execution_count": 9,
      "outputs": [
        {
          "output_type": "stream",
          "name": "stdout",
          "text": [
            "Number of files in 'Control' folder: 20\n",
            "Number of files in 'SLE' folder: 61\n"
          ]
        }
      ]
    },
    {
      "cell_type": "markdown",
      "source": [
        "# Undersampling SLE to handle biasness while handling Data Loss"
      ],
      "metadata": {
        "id": "pfCen7h7JLKa"
      }
    },
    {
      "cell_type": "code",
      "source": [
        "import os\n",
        "import pandas as pd\n",
        "import random\n",
        "\n",
        "def aggregate_sle_data(sle_folder, output_folder, group_size=3):\n",
        "    # Ensure output folder exists\n",
        "    os.makedirs(output_folder, exist_ok=True)\n",
        "\n",
        "    # List all SLE (infected) files\n",
        "    sle_files = [f for f in os.listdir(sle_folder) if f.endswith(\".csv\")]\n",
        "\n",
        "    # Randomly exclude 1 file to make 60 (if needed)\n",
        "    if len(sle_files) > 60:\n",
        "        sle_files.remove(random.choice(sle_files))\n",
        "\n",
        "    # Shuffle and group files into sets of `group_size`\n",
        "    random.shuffle(sle_files)\n",
        "    file_groups = [sle_files[i:i + group_size] for i in range(0, len(sle_files), group_size)]\n",
        "\n",
        "    for idx, group in enumerate(file_groups):\n",
        "        dfs = [pd.read_csv(os.path.join(sle_folder, file)) for file in group]\n",
        "\n",
        "        # Merge on X, Y and compute mean\n",
        "        df_merged = dfs[0].copy()\n",
        "        for df in dfs[1:]:\n",
        "            df_merged[[\"MEAN\", \"STDV\", \"NPIXELS\"]] += df[[\"MEAN\", \"STDV\", \"NPIXELS\"]]\n",
        "        df_merged[[\"MEAN\", \"STDV\", \"NPIXELS\"]] /= group_size  # Average\n",
        "\n",
        "        # Save the aggregated file\n",
        "        output_path = os.path.join(output_folder, f\"SLE_Aggregated_{idx+1}.csv\")\n",
        "        df_merged.to_csv(output_path, index=False)\n",
        "\n",
        "    print(f\"Aggregated {len(file_groups)} files saved in {output_folder}\")\n",
        "\n",
        "# Define paths\n",
        "sle_folder = \"/root/.cache/kagglehub/datasets/abinash6000/sle-gene-expression-profiles-7000/versions/1/SLE\"\n",
        "output_folder = \"/root/.cache/kagglehub/datasets/abinash6000/sle-gene-expression-profiles-7000/versions/1/SLE_Aggregated\"\n",
        "\n",
        "# Run the function\n",
        "aggregate_sle_data(sle_folder, output_folder)\n"
      ],
      "metadata": {
        "colab": {
          "base_uri": "https://localhost:8080/"
        },
        "id": "on1dlVjC1Jsb",
        "outputId": "3bf8155b-50c6-4563-d309-3d9726ee948a"
      },
      "execution_count": 10,
      "outputs": [
        {
          "output_type": "stream",
          "name": "stdout",
          "text": [
            "Aggregated 20 files saved in /root/.cache/kagglehub/datasets/abinash6000/sle-gene-expression-profiles-7000/versions/1/SLE_Aggregated\n"
          ]
        }
      ]
    },
    {
      "cell_type": "code",
      "source": [
        "aggregated_sle=\"/root/.cache/kagglehub/datasets/abinash6000/sle-gene-expression-profiles-7000/versions/1/SLE_Aggregated\"\n",
        "  # Get a sample CSV file from the Control folder\n",
        "sample_file = next((f for f in os.listdir(aggregated_sle) if f.endswith(\".csv\")), None)\n",
        "\n",
        "if sample_file:\n",
        "    sample_path = os.path.join(aggregated_sle, sample_file)\n",
        "    df = pd.read_csv(sample_path, nrows=5)  # Read only the first 5 rows\n",
        "    print(f\"Head of {sample_file}:\")\n",
        "    print(df.head())\n",
        "else:\n",
        "    print(\"No CSV files found \")\n"
      ],
      "metadata": {
        "colab": {
          "base_uri": "https://localhost:8080/"
        },
        "id": "pBnr5ThF8NfE",
        "outputId": "f08aa595-7280-41b3-bd5c-f11b74769d98"
      },
      "execution_count": 11,
      "outputs": [
        {
          "output_type": "stream",
          "name": "stdout",
          "text": [
            "Head of SLE_Aggregated_2.csv:\n",
            "   X  Y          MEAN         STDV  NPIXELS\n",
            "0  0  0    106.333333    15.366667     25.0\n",
            "1  1  0  16974.666667  2283.200000     25.0\n",
            "2  2  0    138.666667    30.866667     25.0\n",
            "3  3  0  17039.333333  2651.733333     25.0\n",
            "4  4  0     94.000000    14.033333     25.0\n"
          ]
        }
      ]
    },
    {
      "cell_type": "markdown",
      "source": [
        "# UnderSampling 5000 rows from each file"
      ],
      "metadata": {
        "id": "UCeRqcVLJY2f"
      }
    },
    {
      "cell_type": "code",
      "source": [
        "def get_x_y_range(csv_file):\n",
        "    df = pd.read_csv(csv_file)\n",
        "    x_min, x_max = df['X'].min(), df['X'].max()\n",
        "    y_min, y_max = df['Y'].min(), df['Y'].max()\n",
        "    num_rows = len(df)\n",
        "    print(f\"Number of rows in dataset: {num_rows}\")\n",
        "    return x_min, x_max, y_min, y_max"
      ],
      "metadata": {
        "id": "UuVOvmPoAMdg"
      },
      "execution_count": 12,
      "outputs": []
    },
    {
      "cell_type": "code",
      "source": [
        "sample_file = \"/root/.cache/kagglehub/datasets/abinash6000/sle-gene-expression-profiles-7000/versions/1/SLE_Aggregated/SLE_Aggregated_1.csv\"\n",
        "x_min, x_max, y_min, y_max= get_x_y_range(sample_file)\n",
        "print(f\"X range: {x_min} to {x_max}\")\n",
        "print(f\"Y range: {y_min} to {y_max}\")\n"
      ],
      "metadata": {
        "colab": {
          "base_uri": "https://localhost:8080/"
        },
        "id": "xSi3m_umAHJj",
        "outputId": "d07884df-848c-4ae6-8204-adaffc6cc2a1"
      },
      "execution_count": 13,
      "outputs": [
        {
          "output_type": "stream",
          "name": "stdout",
          "text": [
            "Number of rows in dataset: 1354896\n",
            "X range: 0 to 1163\n",
            "Y range: 0 to 1163\n"
          ]
        }
      ]
    },
    {
      "cell_type": "code",
      "source": [
        "import os\n",
        "import pandas as pd\n",
        "import numpy as np\n",
        "\n",
        "def sample_random_from_chunks(csv_file, output_file, num_samples=5000):\n",
        "    \"\"\"Samples data by dividing into chunks of ~270 rows and selecting one random row per chunk.\"\"\"\n",
        "\n",
        "    df = pd.read_csv(csv_file)\n",
        "    total_rows = len(df)\n",
        "\n",
        "    step = max(total_rows // num_samples, 1)  # Compute chunk size (~270)\n",
        "\n",
        "    # Randomly select one row per chunk\n",
        "    sampled_rows = [df.iloc[i + np.random.randint(0, min(step, total_rows - i))] for i in range(0, total_rows, step)]\n",
        "\n",
        "    # Convert list to DataFrame and ensure exactly `num_samples` rows\n",
        "    sampled_df = pd.DataFrame(sampled_rows).head(num_samples)\n",
        "\n",
        "    # Save the sampled dataset\n",
        "    sampled_df.to_csv(output_file, index=False)\n",
        "\n",
        "    print(f\"Sampled {len(sampled_df)} rows from {csv_file} → {output_file}\")\n",
        "\n",
        "# Paths\n",
        "base_output_folder = \"/root/.cache/kagglehub/datasets/abinash6000/sle-gene-expression-profiles-7000/versions/1/Final_Sampled\"\n",
        "control_folder = \"/root/.cache/kagglehub/datasets/abinash6000/sle-gene-expression-profiles-7000/versions/1/Control\"\n",
        "sle_folder = \"/root/.cache/kagglehub/datasets/abinash6000/sle-gene-expression-profiles-7000/versions/1/SLE_Aggregated\"\n",
        "\n",
        "# Subfolder paths\n",
        "control_sampled_folder = os.path.join(base_output_folder, \"control_sampled\")\n",
        "sle_sampled_folder = os.path.join(base_output_folder, \"aggregated_sle_sampled\")\n",
        "\n",
        "# Create directories\n",
        "os.makedirs(control_sampled_folder, exist_ok=True)\n",
        "os.makedirs(sle_sampled_folder, exist_ok=True)\n",
        "\n",
        "# Sample 5000 points for each file in Control and SLE_Aggregated\n",
        "for folder, output_subfolder in [(control_folder, control_sampled_folder), (sle_folder, sle_sampled_folder)]:\n",
        "    for file in os.listdir(folder):\n",
        "        if file.endswith(\".csv\"):\n",
        "            input_path = os.path.join(folder, file)\n",
        "            output_path = os.path.join(output_subfolder, file)\n",
        "            sample_random_from_chunks(input_path, output_path, num_samples=5000)\n"
      ],
      "metadata": {
        "colab": {
          "base_uri": "https://localhost:8080/"
        },
        "id": "AibFUBxEAHwS",
        "outputId": "e576c2d6-7f47-49d3-d73f-6d314c5ce6a2"
      },
      "execution_count": 14,
      "outputs": [
        {
          "output_type": "stream",
          "name": "stdout",
          "text": [
            "Sampled 5000 rows from /root/.cache/kagglehub/datasets/abinash6000/sle-gene-expression-profiles-7000/versions/1/Control/GSM1228917_6631_Control_SLE_M1_HGU133P.csv → /root/.cache/kagglehub/datasets/abinash6000/sle-gene-expression-profiles-7000/versions/1/Final_Sampled/control_sampled/GSM1228917_6631_Control_SLE_M1_HGU133P.csv\n",
            "Sampled 5000 rows from /root/.cache/kagglehub/datasets/abinash6000/sle-gene-expression-profiles-7000/versions/1/Control/GSM1228881_6633_Control_SLE_M3_HGU133P.csv → /root/.cache/kagglehub/datasets/abinash6000/sle-gene-expression-profiles-7000/versions/1/Final_Sampled/control_sampled/GSM1228881_6633_Control_SLE_M3_HGU133P.csv\n",
            "Sampled 5000 rows from /root/.cache/kagglehub/datasets/abinash6000/sle-gene-expression-profiles-7000/versions/1/Control/GSM1228872_9399_Control_SLE_M10_SPR134_HGU133P.csv → /root/.cache/kagglehub/datasets/abinash6000/sle-gene-expression-profiles-7000/versions/1/Final_Sampled/control_sampled/GSM1228872_9399_Control_SLE_M10_SPR134_HGU133P.csv\n",
            "Sampled 5000 rows from /root/.cache/kagglehub/datasets/abinash6000/sle-gene-expression-profiles-7000/versions/1/Control/GSM1228870_9396_Control_SLE_M7_SPR134_HGU133P.csv → /root/.cache/kagglehub/datasets/abinash6000/sle-gene-expression-profiles-7000/versions/1/Final_Sampled/control_sampled/GSM1228870_9396_Control_SLE_M7_SPR134_HGU133P.csv\n",
            "Sampled 5000 rows from /root/.cache/kagglehub/datasets/abinash6000/sle-gene-expression-profiles-7000/versions/1/Control/GSM1228882_6634_Control_SLE_M4_HGU133P.csv → /root/.cache/kagglehub/datasets/abinash6000/sle-gene-expression-profiles-7000/versions/1/Final_Sampled/control_sampled/GSM1228882_6634_Control_SLE_M4_HGU133P.csv\n",
            "Sampled 5000 rows from /root/.cache/kagglehub/datasets/abinash6000/sle-gene-expression-profiles-7000/versions/1/Control/GSM1228876_6632_Control_SLE_M2_HGU133P.csv → /root/.cache/kagglehub/datasets/abinash6000/sle-gene-expression-profiles-7000/versions/1/Final_Sampled/control_sampled/GSM1228876_6632_Control_SLE_M2_HGU133P.csv\n",
            "Sampled 5000 rows from /root/.cache/kagglehub/datasets/abinash6000/sle-gene-expression-profiles-7000/versions/1/Control/GSM1228879_6629_Control_SLE_G4_HGU133P.csv → /root/.cache/kagglehub/datasets/abinash6000/sle-gene-expression-profiles-7000/versions/1/Final_Sampled/control_sampled/GSM1228879_6629_Control_SLE_G4_HGU133P.csv\n",
            "Sampled 5000 rows from /root/.cache/kagglehub/datasets/abinash6000/sle-gene-expression-profiles-7000/versions/1/Control/GSM1228866_9390_Control_SLE_G6_SPR134_HGU133P.csv → /root/.cache/kagglehub/datasets/abinash6000/sle-gene-expression-profiles-7000/versions/1/Final_Sampled/control_sampled/GSM1228866_9390_Control_SLE_G6_SPR134_HGU133P.csv\n",
            "Sampled 5000 rows from /root/.cache/kagglehub/datasets/abinash6000/sle-gene-expression-profiles-7000/versions/1/Control/GSM1228916_6628_Control_SLE_G3_HGU133P.csv → /root/.cache/kagglehub/datasets/abinash6000/sle-gene-expression-profiles-7000/versions/1/Final_Sampled/control_sampled/GSM1228916_6628_Control_SLE_G3_HGU133P.csv\n",
            "Sampled 5000 rows from /root/.cache/kagglehub/datasets/abinash6000/sle-gene-expression-profiles-7000/versions/1/Control/GSM1228860_9391_Control_SLE_G7_SPR134_HGU133P.csv → /root/.cache/kagglehub/datasets/abinash6000/sle-gene-expression-profiles-7000/versions/1/Final_Sampled/control_sampled/GSM1228860_9391_Control_SLE_G7_SPR134_HGU133P.csv\n",
            "Sampled 5000 rows from /root/.cache/kagglehub/datasets/abinash6000/sle-gene-expression-profiles-7000/versions/1/Control/GSM1228871_9398_Control_SLE_M9_SPR134_HGU133P.csv → /root/.cache/kagglehub/datasets/abinash6000/sle-gene-expression-profiles-7000/versions/1/Final_Sampled/control_sampled/GSM1228871_9398_Control_SLE_M9_SPR134_HGU133P.csv\n",
            "Sampled 5000 rows from /root/.cache/kagglehub/datasets/abinash6000/sle-gene-expression-profiles-7000/versions/1/Control/GSM1228862_9397_Control_SLE_M8_SPR134_HGU133P.csv → /root/.cache/kagglehub/datasets/abinash6000/sle-gene-expression-profiles-7000/versions/1/Final_Sampled/control_sampled/GSM1228862_9397_Control_SLE_M8_SPR134_HGU133P.csv\n",
            "Sampled 5000 rows from /root/.cache/kagglehub/datasets/abinash6000/sle-gene-expression-profiles-7000/versions/1/Control/GSM1228878_6627_Control_SLE_G2_HGU133P.csv → /root/.cache/kagglehub/datasets/abinash6000/sle-gene-expression-profiles-7000/versions/1/Final_Sampled/control_sampled/GSM1228878_6627_Control_SLE_G2_HGU133P.csv\n",
            "Sampled 5000 rows from /root/.cache/kagglehub/datasets/abinash6000/sle-gene-expression-profiles-7000/versions/1/Control/GSM1228867_9392_Control_SLE_G8_SPR134_HGU133P.csv → /root/.cache/kagglehub/datasets/abinash6000/sle-gene-expression-profiles-7000/versions/1/Final_Sampled/control_sampled/GSM1228867_9392_Control_SLE_G8_SPR134_HGU133P.csv\n",
            "Sampled 5000 rows from /root/.cache/kagglehub/datasets/abinash6000/sle-gene-expression-profiles-7000/versions/1/Control/GSM1228918_6635_Control_SLE_M5_HGU133P.csv → /root/.cache/kagglehub/datasets/abinash6000/sle-gene-expression-profiles-7000/versions/1/Final_Sampled/control_sampled/GSM1228918_6635_Control_SLE_M5_HGU133P.csv\n",
            "Sampled 5000 rows from /root/.cache/kagglehub/datasets/abinash6000/sle-gene-expression-profiles-7000/versions/1/Control/GSM1228880_6630_Control_SLE_G5_HGU133P.csv → /root/.cache/kagglehub/datasets/abinash6000/sle-gene-expression-profiles-7000/versions/1/Final_Sampled/control_sampled/GSM1228880_6630_Control_SLE_G5_HGU133P.csv\n",
            "Sampled 5000 rows from /root/.cache/kagglehub/datasets/abinash6000/sle-gene-expression-profiles-7000/versions/1/Control/GSM1228861_9394_Control_SLE_G10_SPR134_HGU133P.csv → /root/.cache/kagglehub/datasets/abinash6000/sle-gene-expression-profiles-7000/versions/1/Final_Sampled/control_sampled/GSM1228861_9394_Control_SLE_G10_SPR134_HGU133P.csv\n",
            "Sampled 5000 rows from /root/.cache/kagglehub/datasets/abinash6000/sle-gene-expression-profiles-7000/versions/1/Control/GSM1228868_9393_Control_SLE_G9_SPR134_HGU133P.csv → /root/.cache/kagglehub/datasets/abinash6000/sle-gene-expression-profiles-7000/versions/1/Final_Sampled/control_sampled/GSM1228868_9393_Control_SLE_G9_SPR134_HGU133P.csv\n",
            "Sampled 5000 rows from /root/.cache/kagglehub/datasets/abinash6000/sle-gene-expression-profiles-7000/versions/1/Control/GSM1228869_9395_Control_SLE_M6_SPR134_HGU133P.csv → /root/.cache/kagglehub/datasets/abinash6000/sle-gene-expression-profiles-7000/versions/1/Final_Sampled/control_sampled/GSM1228869_9395_Control_SLE_M6_SPR134_HGU133P.csv\n",
            "Sampled 5000 rows from /root/.cache/kagglehub/datasets/abinash6000/sle-gene-expression-profiles-7000/versions/1/Control/GSM1228915_6626_Control_SLE_G1_HGU133P.csv → /root/.cache/kagglehub/datasets/abinash6000/sle-gene-expression-profiles-7000/versions/1/Final_Sampled/control_sampled/GSM1228915_6626_Control_SLE_G1_HGU133P.csv\n",
            "Sampled 5000 rows from /root/.cache/kagglehub/datasets/abinash6000/sle-gene-expression-profiles-7000/versions/1/SLE_Aggregated/SLE_Aggregated_2.csv → /root/.cache/kagglehub/datasets/abinash6000/sle-gene-expression-profiles-7000/versions/1/Final_Sampled/aggregated_sle_sampled/SLE_Aggregated_2.csv\n",
            "Sampled 5000 rows from /root/.cache/kagglehub/datasets/abinash6000/sle-gene-expression-profiles-7000/versions/1/SLE_Aggregated/SLE_Aggregated_15.csv → /root/.cache/kagglehub/datasets/abinash6000/sle-gene-expression-profiles-7000/versions/1/Final_Sampled/aggregated_sle_sampled/SLE_Aggregated_15.csv\n",
            "Sampled 5000 rows from /root/.cache/kagglehub/datasets/abinash6000/sle-gene-expression-profiles-7000/versions/1/SLE_Aggregated/SLE_Aggregated_8.csv → /root/.cache/kagglehub/datasets/abinash6000/sle-gene-expression-profiles-7000/versions/1/Final_Sampled/aggregated_sle_sampled/SLE_Aggregated_8.csv\n",
            "Sampled 5000 rows from /root/.cache/kagglehub/datasets/abinash6000/sle-gene-expression-profiles-7000/versions/1/SLE_Aggregated/SLE_Aggregated_18.csv → /root/.cache/kagglehub/datasets/abinash6000/sle-gene-expression-profiles-7000/versions/1/Final_Sampled/aggregated_sle_sampled/SLE_Aggregated_18.csv\n",
            "Sampled 5000 rows from /root/.cache/kagglehub/datasets/abinash6000/sle-gene-expression-profiles-7000/versions/1/SLE_Aggregated/SLE_Aggregated_4.csv → /root/.cache/kagglehub/datasets/abinash6000/sle-gene-expression-profiles-7000/versions/1/Final_Sampled/aggregated_sle_sampled/SLE_Aggregated_4.csv\n",
            "Sampled 5000 rows from /root/.cache/kagglehub/datasets/abinash6000/sle-gene-expression-profiles-7000/versions/1/SLE_Aggregated/SLE_Aggregated_20.csv → /root/.cache/kagglehub/datasets/abinash6000/sle-gene-expression-profiles-7000/versions/1/Final_Sampled/aggregated_sle_sampled/SLE_Aggregated_20.csv\n",
            "Sampled 5000 rows from /root/.cache/kagglehub/datasets/abinash6000/sle-gene-expression-profiles-7000/versions/1/SLE_Aggregated/SLE_Aggregated_6.csv → /root/.cache/kagglehub/datasets/abinash6000/sle-gene-expression-profiles-7000/versions/1/Final_Sampled/aggregated_sle_sampled/SLE_Aggregated_6.csv\n",
            "Sampled 5000 rows from /root/.cache/kagglehub/datasets/abinash6000/sle-gene-expression-profiles-7000/versions/1/SLE_Aggregated/SLE_Aggregated_12.csv → /root/.cache/kagglehub/datasets/abinash6000/sle-gene-expression-profiles-7000/versions/1/Final_Sampled/aggregated_sle_sampled/SLE_Aggregated_12.csv\n",
            "Sampled 5000 rows from /root/.cache/kagglehub/datasets/abinash6000/sle-gene-expression-profiles-7000/versions/1/SLE_Aggregated/SLE_Aggregated_16.csv → /root/.cache/kagglehub/datasets/abinash6000/sle-gene-expression-profiles-7000/versions/1/Final_Sampled/aggregated_sle_sampled/SLE_Aggregated_16.csv\n",
            "Sampled 5000 rows from /root/.cache/kagglehub/datasets/abinash6000/sle-gene-expression-profiles-7000/versions/1/SLE_Aggregated/SLE_Aggregated_19.csv → /root/.cache/kagglehub/datasets/abinash6000/sle-gene-expression-profiles-7000/versions/1/Final_Sampled/aggregated_sle_sampled/SLE_Aggregated_19.csv\n",
            "Sampled 5000 rows from /root/.cache/kagglehub/datasets/abinash6000/sle-gene-expression-profiles-7000/versions/1/SLE_Aggregated/SLE_Aggregated_3.csv → /root/.cache/kagglehub/datasets/abinash6000/sle-gene-expression-profiles-7000/versions/1/Final_Sampled/aggregated_sle_sampled/SLE_Aggregated_3.csv\n",
            "Sampled 5000 rows from /root/.cache/kagglehub/datasets/abinash6000/sle-gene-expression-profiles-7000/versions/1/SLE_Aggregated/SLE_Aggregated_13.csv → /root/.cache/kagglehub/datasets/abinash6000/sle-gene-expression-profiles-7000/versions/1/Final_Sampled/aggregated_sle_sampled/SLE_Aggregated_13.csv\n",
            "Sampled 5000 rows from /root/.cache/kagglehub/datasets/abinash6000/sle-gene-expression-profiles-7000/versions/1/SLE_Aggregated/SLE_Aggregated_14.csv → /root/.cache/kagglehub/datasets/abinash6000/sle-gene-expression-profiles-7000/versions/1/Final_Sampled/aggregated_sle_sampled/SLE_Aggregated_14.csv\n",
            "Sampled 5000 rows from /root/.cache/kagglehub/datasets/abinash6000/sle-gene-expression-profiles-7000/versions/1/SLE_Aggregated/SLE_Aggregated_17.csv → /root/.cache/kagglehub/datasets/abinash6000/sle-gene-expression-profiles-7000/versions/1/Final_Sampled/aggregated_sle_sampled/SLE_Aggregated_17.csv\n",
            "Sampled 5000 rows from /root/.cache/kagglehub/datasets/abinash6000/sle-gene-expression-profiles-7000/versions/1/SLE_Aggregated/SLE_Aggregated_5.csv → /root/.cache/kagglehub/datasets/abinash6000/sle-gene-expression-profiles-7000/versions/1/Final_Sampled/aggregated_sle_sampled/SLE_Aggregated_5.csv\n",
            "Sampled 5000 rows from /root/.cache/kagglehub/datasets/abinash6000/sle-gene-expression-profiles-7000/versions/1/SLE_Aggregated/SLE_Aggregated_7.csv → /root/.cache/kagglehub/datasets/abinash6000/sle-gene-expression-profiles-7000/versions/1/Final_Sampled/aggregated_sle_sampled/SLE_Aggregated_7.csv\n",
            "Sampled 5000 rows from /root/.cache/kagglehub/datasets/abinash6000/sle-gene-expression-profiles-7000/versions/1/SLE_Aggregated/SLE_Aggregated_1.csv → /root/.cache/kagglehub/datasets/abinash6000/sle-gene-expression-profiles-7000/versions/1/Final_Sampled/aggregated_sle_sampled/SLE_Aggregated_1.csv\n",
            "Sampled 5000 rows from /root/.cache/kagglehub/datasets/abinash6000/sle-gene-expression-profiles-7000/versions/1/SLE_Aggregated/SLE_Aggregated_11.csv → /root/.cache/kagglehub/datasets/abinash6000/sle-gene-expression-profiles-7000/versions/1/Final_Sampled/aggregated_sle_sampled/SLE_Aggregated_11.csv\n",
            "Sampled 5000 rows from /root/.cache/kagglehub/datasets/abinash6000/sle-gene-expression-profiles-7000/versions/1/SLE_Aggregated/SLE_Aggregated_10.csv → /root/.cache/kagglehub/datasets/abinash6000/sle-gene-expression-profiles-7000/versions/1/Final_Sampled/aggregated_sle_sampled/SLE_Aggregated_10.csv\n",
            "Sampled 5000 rows from /root/.cache/kagglehub/datasets/abinash6000/sle-gene-expression-profiles-7000/versions/1/SLE_Aggregated/SLE_Aggregated_9.csv → /root/.cache/kagglehub/datasets/abinash6000/sle-gene-expression-profiles-7000/versions/1/Final_Sampled/aggregated_sle_sampled/SLE_Aggregated_9.csv\n"
          ]
        }
      ]
    },
    {
      "cell_type": "markdown",
      "source": [
        "# download the final sampled data"
      ],
      "metadata": {
        "id": "d5r43CO8Jh9g"
      }
    },
    {
      "cell_type": "code",
      "source": [
        "import shutil\n",
        "\n",
        "# Define path to final sampled folder\n",
        "final_sampled_path = \"/root/.cache/kagglehub/datasets/abinash6000/sle-gene-expression-profiles-7000/versions/1/Final_Sampled\"\n",
        "zip_path = \"/root/Final_Sampled.zip\"\n",
        "\n",
        "# Create a zip archive\n",
        "shutil.make_archive(zip_path.replace(\".zip\", \"\"), 'zip', final_sampled_path)\n",
        "\n",
        "print(f\"Zipped folder saved at: {zip_path}\")\n"
      ],
      "metadata": {
        "colab": {
          "base_uri": "https://localhost:8080/"
        },
        "id": "wWSjhW9KEIky",
        "outputId": "a5b3136d-43de-4592-ac85-e218696daf9c"
      },
      "execution_count": 15,
      "outputs": [
        {
          "output_type": "stream",
          "name": "stdout",
          "text": [
            "Zipped folder saved at: /root/Final_Sampled.zip\n"
          ]
        }
      ]
    },
    {
      "cell_type": "code",
      "source": [
        "from google.colab import files\n",
        "\n",
        "# Download the zip file\n",
        "files.download(zip_path)\n"
      ],
      "metadata": {
        "colab": {
          "base_uri": "https://localhost:8080/",
          "height": 17
        },
        "id": "uOYzI_8PEqSD",
        "outputId": "01b4911c-2f55-4fa3-835f-228bb8cceaa2"
      },
      "execution_count": 16,
      "outputs": [
        {
          "output_type": "display_data",
          "data": {
            "text/plain": [
              "<IPython.core.display.Javascript object>"
            ],
            "application/javascript": [
              "\n",
              "    async function download(id, filename, size) {\n",
              "      if (!google.colab.kernel.accessAllowed) {\n",
              "        return;\n",
              "      }\n",
              "      const div = document.createElement('div');\n",
              "      const label = document.createElement('label');\n",
              "      label.textContent = `Downloading \"${filename}\": `;\n",
              "      div.appendChild(label);\n",
              "      const progress = document.createElement('progress');\n",
              "      progress.max = size;\n",
              "      div.appendChild(progress);\n",
              "      document.body.appendChild(div);\n",
              "\n",
              "      const buffers = [];\n",
              "      let downloaded = 0;\n",
              "\n",
              "      const channel = await google.colab.kernel.comms.open(id);\n",
              "      // Send a message to notify the kernel that we're ready.\n",
              "      channel.send({})\n",
              "\n",
              "      for await (const message of channel.messages) {\n",
              "        // Send a message to notify the kernel that we're ready.\n",
              "        channel.send({})\n",
              "        if (message.buffers) {\n",
              "          for (const buffer of message.buffers) {\n",
              "            buffers.push(buffer);\n",
              "            downloaded += buffer.byteLength;\n",
              "            progress.value = downloaded;\n",
              "          }\n",
              "        }\n",
              "      }\n",
              "      const blob = new Blob(buffers, {type: 'application/binary'});\n",
              "      const a = document.createElement('a');\n",
              "      a.href = window.URL.createObjectURL(blob);\n",
              "      a.download = filename;\n",
              "      div.appendChild(a);\n",
              "      a.click();\n",
              "      div.remove();\n",
              "    }\n",
              "  "
            ]
          },
          "metadata": {}
        },
        {
          "output_type": "display_data",
          "data": {
            "text/plain": [
              "<IPython.core.display.Javascript object>"
            ],
            "application/javascript": [
              "download(\"download_2aebf8ea-40ae-4f01-9e62-9416436bed2c\", \"Final_Sampled.zip\", 1779081)"
            ]
          },
          "metadata": {}
        }
      ]
    },
    {
      "cell_type": "code",
      "source": [],
      "metadata": {
        "id": "h0fZQY2QKav8"
      },
      "execution_count": 16,
      "outputs": []
    }
  ]
}